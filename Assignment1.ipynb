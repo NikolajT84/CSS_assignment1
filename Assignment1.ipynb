{
 "cells": [
  {
   "cell_type": "markdown",
   "source": [
    "# Assignment 1\n",
    "\n",
    "Link to github: https://github.com/NikolajT84/CSS_assignment1\n",
    "\n",
    "### Collaboration\n",
    "\n",
    "We have written the code working together on Nikolaj's machine, which is why all commits are from the same user."
   ],
   "metadata": {
    "collapsed": false
   },
   "id": "175b6d70c0d147d"
  },
  {
   "cell_type": "code",
   "outputs": [],
   "source": [
    "# Imports for all exercises\n",
    "import json\n",
    "import requests\n",
    "import pandas as pd\n",
    "import networkx as nx\n",
    "from tqdm import tqdm\n",
    "from bs4 import BeautifulSoup\n",
    "from itertools import combinations\n",
    "from joblib import Parallel, delayed\n",
    "from statistics import mean, mode, median"
   ],
   "metadata": {
    "collapsed": false,
    "ExecuteTime": {
     "end_time": "2024-02-21T16:09:53.156349800Z",
     "start_time": "2024-02-21T16:09:53.135160500Z"
    }
   },
   "id": "75a3d5f27b9b93b1",
   "execution_count": 80
  },
  {
   "cell_type": "markdown",
   "source": [
    "### Part 1\n",
    "\n",
    "We follow the instructions, and use bs4 to parse the html."
   ],
   "metadata": {
    "collapsed": false
   },
   "id": "986c050e80183127"
  },
  {
   "cell_type": "code",
   "outputs": [
    {
     "name": "stdout",
     "output_type": "stream",
     "text": [
      "1472\n",
      "[' bokányi', 'aaron clauset', 'aaron j. schwartz', 'aaron schein', 'aaron smith', 'abbas haidar', 'abby smith', 'abdulkadir celikkanat', 'abdullah almaatouq', 'abdullah zameek', 'abeer elbahrawy', 'adam finnemann', 'adam frank', 'adam h. russell', 'adam stefkovics', 'adam sutton', 'aditi dutta', 'adriano belisario', 'adrienne mendrik', 'agnieszka czaplicka', 'agnieszka falenska', 'aguru ishibashi', 'ahmad hesam', 'ahmed nasser mostafa', 'aidan combs', 'aidar zinnatullin', 'akeela careem', 'akhil arora', 'akira hashimoto', 'akira matsui', 'akira tsurushima', 'akrati saxena', 'alain barrat', 'alan paul kwan', 'alba motes rodrigo', 'albert-laszlo barabasi', 'alberto amaduzzi', 'alejandro beltran', 'alejandro dinkelberg', 'alejandro hermida carrillo', 'aleksandra urman', 'alessandra urbinati', 'alessandro de gaetano', 'alessandro flamini', 'alessandro flammini', 'alessandro gambetti', 'alessandro lomi', 'alessia antelmi', 'alessia melegaro', 'alessio vincenzo cardillo', 'alex mielke', 'alex pentland', 'alex teytelboym', 'alexander j gates', 'alexander sobieska', 'alexander volfovsky', 'alexandra florea', 'alexandra rottenkolber', 'alexandra segerberg', 'alexandre evsukoff', 'alexandros gelastopoulos', 'alfredo hernandez sanchez', 'ali faqeeh', 'ali salloum', 'ali yassin', 'aliakbar akbaritabar', 'aliaksandr herasimenka', 'alice battiston', 'alice grishchenko', 'alice xiang', 'alina herderich', 'alina sîrbu', 'allison christine morgan', 'allison koenecke', 'almog simchon', 'amin mekacher', 'amir ebrahimi fard', 'amir ghasemian', 'amir goldberg', 'amirhossein nakhaei', 'amy dunphy', 'amy gimma', 'amy munz', 'amy selby', 'amy smith', 'ana alonso curbelo', 'ana julia bonzanini bernardi', 'ana macanovic', 'ana maria jaramillo', 'ana maría jaramillo', 'ana valdivia', 'anastasia karpova', 'anastasia menshikova', 'anastassia vybornova', 'andrea baronchelli', 'andrea failla', 'andrea gentili', 'andrea leigh courtney', 'andrea mina', 'andrea passerini', 'andrea tagarelli', 'andrea w wang', 'andreas bjerre-nielsen', 'andreas kaltenbrunner', 'andreas koher', 'andreas spitz', 'andreia sofia teixeira', 'andres f. castro torres', 'andrew beers', 'andrew lippman', 'andrew renninger', 'andrés gvirtz', 'andy berres', 'andy skumanich', 'ane rahbek vierø', 'angel sánchez', 'angelita repetto', 'angelo brayner', 'angelos kassianos', 'anikó hannák', 'anjali bhatt', 'anna bertani', 'anna di natale', 'anna george', 'anna mancini', 'anna rogers', 'anna sapienza', 'anna sara ligeti', 'anna seo gyeong choi', 'anna sokolova', 'annapaola marconi', 'anne c kroon', 'anne c. kroon', 'anne cathrine linder', 'anne kroon', 'anne-marie nussberger', 'antonin pottier', 'antonio ariño villarroya', 'antonio bucchiarone', 'antonio desiderio', 'antonio longa', 'antonio rojas-garcia', 'antti gronow', 'anubhab das', 'anya hommadova lu', 'ardon z. shorr', 'arianna pera', 'armando bazzani', 'armin pournaki', 'arnault chatelain', 'arnout van de rijt', 'artem kuriksha', 'artem volgin', 'arti thakur', 'arttu malkamäki', 'arun frey', 'ashiqur r khudabukhsh', 'ashley francisco', 'ashley muddiman', 'ashlyn b. aske', 'ashton anderson', 'astrid gühnemann', 'athina anastasiadou', 'attila varga', 'atushi ishikawa', 'avi gamoran', 'ayan-yue gupta', 'aymeric luneau', 'babak heydari', 'bahador bahrami', 'bahareh sarrafzadeh', 'bailey fosdick', 'baird howland', 'balaraju battu', 'balazs vedres', 'bao tran truong', 'barbara keller', 'beatrice bonami', 'beatrice rammstedt', 'becky p.y. loo', 'bedoor alshebli', 'beibei li', 'belén c saldías fuentes', 'benedikt ströbl', 'benjamin c holding', 'benjamin j radford', 'bennard doornbos', 'bernardo garcia bulle bueno', 'bertram malle', 'bethany hsiao', 'beverly laher', 'bhargav srinivasa desikan', 'bin wang', 'blas kolic', 'bojan kostic', 'boleslaw k. szymanski', 'bradley spahn', 'bramantyo supriyatno', 'brenda curtis', \"brendan o'connor\", 'brennan klein', 'brian uzzi', 'briony swire-thompson', 'brooke foucault welles', 'bruno lepri', 'bruno zamengo', 'byungkyu lee', 'calvin yixiang cheng', 'camelia oprea', 'cameron lai', 'camila tsuzuki', 'camille landesvatter', 'camille roth', 'camille testard', 'carina ines hausladen', 'carlo valensise', 'carlos callejo penalba', 'carlos castillo', 'carlos fernandez-basso', 'carlos rodriguez', 'carlos rodriguez-sickert', 'carlson moses büth', 'carmen leicht-scholten', 'carmine spagnuolo', 'carolina coimbra vieira', 'caroline c. murray', 'casey randazzo', 'cassandra overney', 'cassidy r. sugimoto', 'catalina vajiac', 'caterina suitner', 'cathy fang', 'cecilia monge', 'ceren budak', 'cesar a hidalgo', 'cesar augusto marin', 'chanuwas aswamenakul', 'chao yu', 'charalampos saitis', 'charles rahal', 'cheng pan', 'chia-jung tsai', 'chiara chiavenna', 'chico q camargo', 'chloe ahn', 'chloe eggleston', 'chris baber', 'chris callison-burch', 'christa brelsford', 'christian almenar', 'christian czymara', 'christian l vestergaard', 'christian staal bruun overgaard', 'christian strippel', 'christiern santos rasmussen', 'christine vega pourheydarian', 'christoffer green-pedersen', 'christoffer koch florczak', 'christoph bartenhagen', 'christoph benedikt gote', 'christoph kern', 'christoph stadtfeld', 'christopher bail', 'christopher danforth', 'christopher i jarvis', 'chung-kon shi', 'ciro cattuto', 'claire glanois', 'clara bersch', 'clara boothby', 'clara vandeweerdt', 'claudia acciai', 'claudia wagner', 'clemens m. lechner', 'clemens stachl', 'clodomir santana', 'coen d needell', 'connor cantrell', 'corine meppelink', 'cornelius puschmann', 'corrado monti', 'cristian e candia', 'cuihua shen', 'cynthia rudin', 'd. sunshine hillygus', 'dafna yavetz', 'damian serwata', 'damian trilling', 'damiano morando', 'damin lee', 'dan dai', 'dan franks', 'dan jurafsky', 'dan thomsen', 'daniel a. mcfarland', 'daniel j corsi', 'daniel larremore', 'daniel matter', 'daniel nagin', 'daniel romero', 'daniel scott smith', 'daniel torren peraire', 'daniel valdenegro', 'daniela paolotti', 'daniela perrotta', 'daniela valdes', 'daniele de vinco', 'daniele gambetta', 'daniele quercia', 'daniele rama', 'darko stojilovic', 'darren croft', 'darya zare', 'dashun wang', 'david axelrod', 'david dreyer lassen', 'david g. rand', 'david garcia', 'david joachim grüning', 'david joyner', 'david jurgens', 'david lagnado', 'david lusseau', 'david m rothschild', 'david mimno', 'david mingfei liu', 'david page', 'david rand', 'david rothschild', 'david sanchez', 'davide vega', 'deb roy', 'debora nozza', 'delphine de moor', 'denis bonnay', 'denis e hudon', 'dennis assenmacher', 'denny borsboom', 'diana roig sanz', 'diana verdes', 'dilrukshi gamage', 'dimitra dimitrakopoulou', 'dimitris kotzinos', 'dingeman jan van der laan', 'diogo pachecho', 'diogo pacheco', 'disha saini', 'djordje grbic', 'dongning deng', 'dongwoo lim', 'dorian quelle', 'doug beeferman', 'douglas leasure', 'douglas richard guilbeault', 'drew dimmery', 'duilio balsamo', 'duncan j watts', 'duncan j. watts', 'duncan watts', 'dustin wright', 'dylan connor', 'dylan paltra', 'dylan thurgood', 'eaman jahani', 'ebru sanliturk', 'eckehard olbrich', 'eddie rossi', 'edit paulo', 'edmond awad', 'edward abel', 'edward lee', 'edwin de jonge', 'eiji aramaki', 'eladio montero-porras', 'elena pavan', 'elias fernández domingos', 'elias najarro', 'elisa omodei', 'elisabet carbã³ catalan', 'elisabeth stockinger', 'eliza stenzhorn', 'elizaveta chernenko', 'elizaveta sivak', 'ella clement', 'elliot pickens', 'elohim fonseca dos reis', 'em bello-pardo', 'emil bakkensen johansen', 'emilio ferrara', 'emilio zagheni', 'emily l wang', 'emma hoes', 'emma spiro', 'emmeke aarts', 'emoke-agnes horvat', 'enrico cantoni', 'enshu cheng', 'eraldo ribeiro', 'erez shmueli', 'erez yoeli', 'eric dignum', 'eric giannella', 'erick elejalde', 'erin walk', 'erjian liu', 'erkan gunes', 'erkki tapio isometsä', 'esteban moro', 'etienne ollion', 'eugenio valdano', 'evelien snippe', 'eyal perry', 'ezequiel lopez lopez', 'ezzat elokda', 'fabian baumann', 'fabian braesemann', 'fabio carella', 'fabio carrella', 'fabio giglietto', 'fabián aguirre-lópez', 'fabrizio gilardi', 'fabrizio lillo', 'facundo carrillo', 'fan liang', 'fan yin', 'fariba karimi', 'fatima alqabandi', 'fausto giunchiglia', 'federico barrera lemarchand', 'federico barrera-lemarchand', 'federico botta', 'federico delussu', 'federico mazzoni', 'federico pilati', 'federico zimmerman', 'feiyang zhang', 'felix gaisbauer', 'felix lennert', 'felix schmidt', 'felix victor münch', 'fengyuan michael liu', 'ferdinand le coz', 'filipi nascimento silva', 'filippo menczer', 'filippo privitera', 'fionneke m bos', 'florian barbaro', 'floriana gargiulo', 'fons rademakers', 'fosca giannotti', 'francesca chiaromonte', 'francesco barbieri', 'francesco bonchi', 'francesco lamperti', 'francesco pierri', 'francesco rinaldi', 'francesco silvestri', 'francesco tudisco', 'francisco barreras', 'francisco c santos', 'francisco olivos', 'franco scarselli', 'frank berthold', 'frank neffke', 'frank pantano', 'frank pijpers', 'frank schweitzer', 'frank van tubergen', 'franziska keller', 'frauke kreuter', 'frederik andersen', 'frederik riedel', 'fredrik jansson', 'friedrich götz', 'fujio toriumi', 'fátima velásquez-rojas', 'gabriela juncosa', 'gabriela salazar lopez', 'gabriele etta', 'gabriele santin', 'gabriella harari', 'galen stocking', 'gautam thakur', 'gaël le mens', 'gemma read', 'genki ichinose', 'gennaro cordasco', 'george bikhazi', 'george fletcher', 'george gyamfi', 'gerardo iñiguez', 'gerret von nordheim', 'gert stulp', 'giada marino', 'gianmarco de francisci morales', 'gianni barlacchi', 'giona casiraghi', 'giorgio tripodi', 'giovanni mauro', 'giulia de pasquale', 'giulio cimini', 'giulio corsi', 'giulio rossetti', 'giuseppe russo', 'giyeon baek', 'gordon pennycook', 'gourab ghoshal', 'graham tierney', 'gregorio lópez', 'guangnan zhu', 'guilherme lichand', 'guillaume cabanac', 'guy zyskind', 'gwyneth sutherlin', 'gülşah akçakır', 'haaya naushan', 'haewoon kwak', 'haiko lietz', 'hal ashton', 'hamida seba', 'hammaad adam', 'han zheng', 'hancheng cao', 'hang jiang', 'hannah metzler', 'hannah-marie büttner', 'hao cui', 'haoning xue', 'harsh parikh', 'hasan alp boz', 'hause lin', 'hayato misumi', 'heidi schulze', 'helen margetts', 'helena sophia rauxloh', 'hendrik erz', 'hendrik meyer', 'henrik wolf', 'hikaru asano', 'hillel rapoport', 'hirokazu shirado', 'hiroki takikawa', 'hiromu takahashi', 'hiu sze chan', 'hocine cherifi', 'holger steinmetz', 'homa hosseinmardi', 'hongshan jin', 'hono shirai', 'hope schroeder', 'hriday chheda', 'hugo barbosa', 'hugo contreras', 'hugo subtil', 'hui wang', 'huiyi lv', 'huiyi lyu', 'huma rasheed', 'hyejin youn', 'hyeseung shim', 'hywel t.p. williams', 'ian barnett', 'ian krajbich', 'ibrahim farouq', 'ichiro sakata', 'ijaz ul haq', 'ilaria montagni', 'ilona horwath', 'indira sen', 'indrajeet patil', 'indraneel mane', 'inga trauthig', 'ingmar weber', 'inho hong', 'inês terrucha', 'irena đorđević', 'irmandy wicaksono', 'isabel lerch', 'isabel sebire', 'isabela inês', 'isabella loaiza', 'isabelle augenstein', 'isabelle langrock', 'isabelle lorge', 'ivan dotu', 'ivan savin', 'ivan smirnov', 'ivano bison', 'iyad rahwan', 'iñaki ucar', 'jack laviolette', 'jacob beck', 'jacob r brown', \"jacopo d'ignazi\", 'jad kabbara', 'jaehong ahn', 'jaehyuk park', 'jaime pérez', 'jake m. hofman', 'jakob schlierf', 'jamell dacon', 'james bagrow', 'james calum young', 'james evans', 'james michelson', 'james p houghton', 'james winters', 'jamil zaki', 'jan bachmann', 'jan engler', 'jan nikadon', 'jan-philipp rau', 'jana lasser', 'janet b. pierrehumbert', 'jari saramäki', 'jason burton', 'jason c coronel', 'jason hiigh thompson', 'jason rentfrow', 'javier alvarez-galvez', 'javier borge holthoefer', 'javier ureña carrion', 'jean-philippe cointet', 'jeff t sheng', 'jelena grujić', 'jennifer pan', 'jeremiah onaolapo', 'jeroen jonkman', 'jesper wiborg schneider', 'jesse piburn', 'jesus berrios', 'jesús a. prieto-alonso', 'jia lin cheoh', 'jia-ru song', 'jiani yan', 'jianxun chu', 'jiao sun', 'jiaxin pei', 'jie hua', 'jihoon kim', 'jiliang tang', 'jingwen zhang', 'jinhyuk yun', 'jinjun xiong', 'jinseo park', 'jisu kim', 'jisun an', 'joachim baumann', 'joaquín navajas', 'joel harrison suss', 'johann schaible', 'johanna einsiedler', 'johannes ross', 'john bryden', 'john w edmunds', 'jolien cremers', 'jon kleinberg', 'jon roozenbeek', 'jonas alexander havstein eriksen', 'jonas l juul', 'jonas raaschou-pedersen', 'jonathan bright', 'jonathan cohen', 'jonathan st-onge', 'jonathan zhu', 'jordan hart', 'jorge gil', 'jose javier ramasco', 'jose miguel cordova', 'josefine bohr brask', 'josep perelló', 'josephine lukito', 'joshua garland', 'josé ignacio alvarez-hamelin', 'josé javier ramasco', 'juan carlos rocha', 'judith moeller', 'juergen lerner', 'juhi kulshrestha', 'julia hirschberg', 'julia huschens', 'julia koltai', 'julia szamely', 'julian berger', 'julian polenz', 'julian winkler', 'julien figeac', 'julieta ruiz', 'june young lee', 'juniper l lovato', 'junran yang', 'junsol kim', 'justyna czestochowska', 'jános kertész', 'jörg claussen', 'jürgen pfeffer', 'k. hunter wapman', 'kai-cheng yang', 'kaixiang kang', 'kaiya soorholtz', 'kangsan lee', 'karim hamade', 'karim lasri', 'karmanya aggarwal', 'karolina stanczak', 'karthikeya kaushik', 'kasper welbers', 'kat albrecht', 'katayoun farrahi', 'kate joynes-burgess', 'kate l. wootton', 'kateryna kasianenko', 'katharina burgdorf', 'katharina kleinen', 'katharina lawall', 'kathyrn fair', 'kathyrn r fair', 'katie spoon', 'katinka den nijs', 'katrin weller', 'kayla duskin', 'kazuhiro seki', 'kazutoshi sasahara', 'ke li', 'ke zhou', 'keeley erhardt', 'keiichiro tsukamoto', 'kellner aniko', 'kelton r minor', 'kenjiro inoue', 'kerry wong', 'kevin munger', 'kevin sparks', 'keyu zhu', 'khalid k osman', 'kimitaka asatani', 'kiran garimella', 'kishore vasan', 'kiyoshi izumi', 'kobi hackenburg', 'kongmeng liew', 'koustuv saha', 'kristen engel', 'kristian peter lorenzen', 'kristian tylén', 'kristina aleksandrovna pedersen', 'kristina gligoric', 'kristoffer lind glavind', 'kumar chandra', 'kun he', 'kunihiro miyazaki', 'kyriaki kalimeri', 'laetitia gauvin', 'laila wegner', 'lama abdulrahman alqazlan', 'laura alessandretti', 'laura boeschoten', 'laura casanovas buliart', 'laura hernandez', 'laura leone', 'laura maria alessandretti', 'laura victoria lescano', 'laurel bobrow', 'lauren brent', 'laurence brandenberger', 'laurent hebert-dufresne', 'lavinia rossi mori', 'layla bouzoubaa', 'lea biere', 'lejla dzanko', 'lena mangold', 'lena masch', 'leo ferres', 'leon fröhling', 'leonardo castro-gonzalez', 'leonardo ferres', 'leonardo rosado', 'leonie neuhäuser', 'leslie dechurch', 'lester mackey', 'letizia iannucci', 'levin brinkmann', 'li liao', 'li zhang', 'lian van der krieke', 'licia capra', 'likun cao', 'lili miao', 'lillio mok', 'lin ai', 'linda coufal', 'linda li', 'lindsay larson', 'linnea gandhi', 'lion wedel', 'lisa green', 'lisa merten', 'lisette espin noboa', 'lisette espin-noboa', 'lonjezo dzekedzeke', 'lorenzo amir nemati fard', \"lorenzo dall'amico\", 'lorenzo de masi', 'lorenzo lucchini', 'loreto bravo', 'lorin crawford', 'louis boucherie', 'louis m shekhtman', 'louisa jane di felice', 'lu sun', 'luca luceri', 'luca maria aiello', 'luca pappalardo', 'luca rossi', 'luca verginer', 'lucila alvarez-zuzek', 'lucio la cava', 'lucía pedraza', 'lui ruck', 'luigi arminio', 'luis e c rocha', 'luis m rocha', 'luisa carrer', 'luiz neves', 'lyle ungar', 'lynn smith-lovin', 'léo meynent', 'maciej j. dańko', 'maddalena conte', 'mael kubli', 'magdalena formanowicz', 'magnus resch', 'mahasweta chakraborti', 'mahdi mostajabdaveh', 'mahnaz roshanaei', 'maimuna s majumder', 'makoto mizuno', 'malte jung', 'malvina nissim', 'manju bura', 'manlio de domenico', 'manoel horta ribeiro', 'manoel ribeiro', 'manuel cebrian', 'manuel garcia-herranz', 'manuel tonneau', 'manuel vimercati', 'marc keuschnigg', 'marc sadurní parera', 'marcelo silva', 'marcin waniek', 'marco agnolon', 'marco de nadai', 'marco pangallo', 'marco tonin', 'marcos a. oliveira', 'marcos oliveira', 'mareike wieland', 'maren schuster', 'margaret roberts', 'margaret samahita', 'margarita torre', 'maria cucciniello', 'maria sahakyan', 'maria zens', 'mariana macedo', 'mariano gaston beiro', 'mariano gastón beiró', 'mariano sigman', 'marie decker', 'marie urban', 'marie-laure charpignon', 'marieke van hoof', 'marijn ten thij', 'marilena hohmann', 'mario castro', 'mario l. small', 'marios constantinides', 'marisa vasconcelos', 'marita lítlá', 'marius sältzer', 'marjolijn das', 'mark boukes', 'mark e whiting', 'mark wittek', 'markus strohmaier', 'marlene lutz', 'marta gonzalez', 'martin arvidsson', 'martin gerlach', 'martin hilbert', 'martin koenen', 'marton karsai', 'mary hu', 'maryna sydorova', 'masanori hirano', 'masaru kitsuregawa', 'masashi toyoda', 'massimiliano luca', 'massimo stella', 'mateusz nurek', 'mathias wullum nielsen', 'mathieu génois', 'matija franklin', 'matt rocklage', 'matteo cinelli', 'matteo magnani', 'matteo montecchi', 'matteo palmonari', 'matthew bramwell bone', 'matthew deverna', 'matthew donald sweitzer', 'matthew edwards', 'matthew r deverna', 'matthew sharpe', 'matthew silk', 'mattia samory', 'max falkenberg', 'max lagencamp', 'max pellert', 'maxim derex', 'maximilan schich', 'maximilian hampel', 'meghan armstrong', 'melanie oyarzun', 'melissa j dreier', 'melvyn tyloo', 'mengjie cheng', 'meysam alizadeh', 'mia ann jørgensen', 'micah epstein', 'michael cook', 'michael geers', 'michael gilead', 'michael inzlicht', 'michael macy', 'michael matzenberger', 'michael quayle', 'michael roth', 'michael szell', 'michael t schaub', 'michael vincent arnold', 'michał olech', 'michał‚ czuba', 'michel dubois', 'michelangelo rossi', 'michele avalle', 'michele coscia', 'michele starnini', 'michele tizzani', 'michele tizzoni', 'miguel a gonzález casado', 'miguel rivera-lanas', 'miguel souza', 'mihai burzo', 'mikihito tanaka', 'mikiko shimaoka', 'mikko kivelä', 'milena tsvetkova', 'ming-hung wang', 'mingjing yin', 'mingmeng geng', 'minsu park', 'miquel montero', 'mirco musolesi', 'miriam hurtado bodell', 'miriam redi', 'mirta galesic', 'miruna cotet', 'mitsuo yoshida', 'moena hashimoto', 'mohamed abouelenien', 'mohammad amaan haque', 'mohammad atari', 'mohammadhadi aliahmadi', 'mohammed alsobay', 'mohsen bahrami', 'monica bianchini', 'morgan ryan frank', 'morten mørup', 'munjung kim', 'mykola makhortykh', 'mykola pechenizkiy', 'márton karsai', 'márton rakovics', 'mónika simon', 'nabeel gillani', 'nail furkan bashan', 'nakao ran', 'nalette brodnax', 'nandini iyer', 'nanyun peng', 'naoki yoshinaga', 'narayani vedam', 'natalie j. stroud', 'natalie mcdaniel gallagher', 'nate holers', 'navya suri', \"neave o'clery\", 'neeley pate', 'neil a. tenenholtz', 'neil fasching', 'neville stanton', 'nguyen luong', 'niccolo pescetelli', 'nicholas a christakis', 'nicholas buttrick', 'nicholas christakis', 'nicholas j pangakis', 'nicholas laberge', 'nick obradovich', 'nicola fanton', 'nicola pedreschi', 'nicola perra', 'nicole nisbett', 'nicolò alessandro girardini', 'nicolò gozzi', 'nicolò pagan', 'niel hens', 'niklas stoehr', 'nikolaj arpe harmon', 'nikolaos nakis', 'nikolitsa grigoropoulou', 'nils christopher köbis', 'nir grinberg', 'niyati malhotra', 'noshir contractor', 'nour kteily', 'nuria caceres', 'oana goga', 'ocã©ane boulais', 'ohhyun kwon', 'ole teutloff', 'oliver baumann', 'oliver posegga', 'olivier togni', 'ollie ballinger', 'ollin demian langle-chimal', 'omar guerrero', 'onicio leal', 'onur varol', 'ophelia deroy', 'orestis papakyriakopoulos', 'oriol artime', 'orsolya vasarhelyi', 'osamu sakura', 'otto kässi', 'ourania kolokotroni', 'ozgur can seckin', 'pablo andres astudillo', 'pablo balenzuela', 'pablo hernández-lagos', 'pablo moral', 'pantelis analytis', 'pantelis p analytis', 'pantelis p. analytis', 'paola tubaro', 'paolo bajardi', 'pascal van hentenryck', 'patrice wangen', 'patrick gildersleve', 'patrick zerrer', 'paul c. bauer', 'paul salmon', 'paulina bondaronek', 'paulina pankowska', 'paweł jurek', 'pearl pandya', 'pedro ramaciotti morales', 'peidong mei', 'peter dodds', 'peter meylakhs', 'petter holme', 'philip howard', 'philipp kessling', 'philipp lorenz-spreen', 'philippe beutels', 'pia gutsmiedl', 'pier luigi sacco', 'pieter simoens', 'pietro alessandro aluffi', 'pietro coletti', 'pietro lio', 'piotr bródka', 'piyush ghasiya', 'pj lamberson', 'priscila alvarez-cueva', 'priyanka goonetilleke', 'priyanshi sharma', 'przemyslaw kazienko', 'pu yan', 'pádraig mac carron', 'qi wang', 'qiankun zhong', 'qianru meng', 'qin li', 'qing ke', 'qingtao cao', 'qiusi sun', 'qiwei han', 'quinn lanners', 'rachith aiyappa', 'rada mihalcea', 'radosław michalski', 'ralf kurvers', 'ralph schroeder', 'ramesh jagannathan', 'ranadheer malla', 'randall harp', 'ray funahashi', 'rebecca adler-nissen', 'regina widjaya', 'reid mcilroy-young', 'remi emonet', 'renaud lambiotte', 'rens vliegenthart', 'rense corten', 'renzhe yu', 'renzo bianchi', 'riccardo di clemente', 'riccardo gallotti', 'richard bruggeman', 'richard freedman', 'ridhi kashyap', 'rion brattig correia', 'rishabh kaushal', 'rob chew', 'robb willer', 'robert gordon rinderknecht', 'robert mahari', 'robert west', 'roberta rocca', 'roberta sinatra', 'roberto mavilia', 'roberto trotta', 'roberto ulloa', 'robin delabays', 'rodger richer', 'rodrigo troncoso', 'roeland dubèl', 'roland toth', 'roman kyrychenko', 'ronald e. robertson', 'ronaldo menezes', 'roney reis', 'rosa weidenspointner', 'rosalia steffi longjam', 'rossano schifanella', 'rubing shen', 'rubén rodríguez casañ', 'rudolf hanel', 'rudy arthur', 'ruhao liu', 'rupert kiddle', 'rupert tibor kiddle', 'ruth elisabeth appel', 'ryan cotterell', 'ryan louis stevens', 'ryan whalen', 'ryota kobayashi', 'rémi perrier', 'rémi suchonn', 'sabine brunswicker', 'sacha epskamp', 'sadamori kojaku', 'saeedeh mohammadi', 'sagar joglekar', 'sagar kumar', 'sahar baribi-bartov', 'sahil chinoy', 'sahil loomba', 'sahil verma', 'sajid siraj', 'salim chouaki', 'salvatore citraro', 'salvatore giorgi', 'salvatore vilella', 'sam heroy', 'sam wolken', 'sam zhang', 'samantha vanderslott', 'samar haider', 'sami alexej nenno', 'samin aref', 'samsun knight', 'samuel fraiberger', 'samuel wolken', 'samuel woolley', 'sander van der linden', 'sandipan sikdar', 'sandor juhasz', 'sandro ferreira sousa', 'sandro lera', 'sanggoo kang', 'sanja scepanovic', 'sanja šćepanović', 'sanjay kairam', 'sanne smith', 'santo fortunato', 'sara bonati', 'sara heydari', 'sara venturini', 'sarah grobe', 'sarah ita levitan', 'sarah tell', 'sarvenaz ebrahimi', 'satoshi tohda', 'satyaki sikdar', 'saumya tripathi', 'saurabh khanna', 'saverio bolognani', 'savvas zannettou', 'sawa yoshioka', 'scott a hale', 'scott a. hale', 'scott friedman', 'scott mcclean', 'sean kelty', 'sean p. rogers', 'sebastian mildiner moraga', 'sebastian steffen', 'sebastian stier', 'sebastiano bontorin', 'segun aroyehun', 'selim balcisoy', 'seong-min jun', 'seongwoon kim', 'seoyoung kweon', 'serena jimyn soh', 'serine ramlawi', 'seth frey', 'shadi rezapour', 'shahan ali memon', 'shahar somin', 'shannon poulsen', 'sharad goel', 'sharath chandra guntuku', 'sharon kang', 'shatayu kulkarni', 'shaun bevan', 'shayne longpre', 'shelby grossman', 'shilad sen', 'shima saniei', 'shintaro igari', 'shintaro sakai', 'shintaro ueki', 'sho cho', 'sho tsugawa', 'shohei hisamitsu', 'shoko wakamiya', 'shotaro ishihara', 'shouji fujimoto', 'shreya havaldar', 'shunichi kasahara', 'shuntaro yada', 'shunyuan zhang', 'siddhartha sen', 'silke adam', 'silvia de sojo caso', 'silvia ioana fierăscu', 'silvia leoni', 'sima farokhnejad', 'simon colton', 'simon martin breum', 'simon walo', 'simone centellegher', 'simone paolo ponzetto', 'simone santoni', 'sky ch-wang', 'somya tomar', 'sonia yeh', 'sonja m schmer galunder', 'sonja m schmer-galunder', 'sonja walter', 'sophia johanna schlosser', 'sota watanabe', 'sourav medya', 'spencer poodiack parsons', 'srdja dragovic', 'srishti vashistha', 'stasa milojevic', 'stefan herzog', 'stefan katz', 'stefan m. herzog', 'stefan sarkadi', 'stefan stanciulescu', 'stefan wuchty', 'stephan lewandowsky', 'stephanie eckman', 'stephen davies', 'subhayan mukerjee', 'sujan dutta', 'sukankana chakraborty', 'sukrit venkatagiri', 'suman maity', 'sumer vaid', 'sune lehmann', 'sunny rai', 'surendra hazarie', 'susan banducci', 'susan vermeer', 'suyash fulay', 'sven banisch', 'sydney demets', 'sylvain fontaine', 'szymon talaga', 'taberez ahmed neyazi', 'taekho you', 'taha yasseri', 'taichi murayama', 'taizo horikomi', 'takaharu saito', 'takahiro miura', 'takahiro yabe', 'takako hashimoto', 'takayuki mizuno', 'takayuki uchiba', 'takeaki uno', 'talal rahwan', 'talayeh aledavood', 'tamara yaikin', 'tamer ajaj', 'tao jia', 'tara sowrirajan', 'taro takaguchi', 'taylor jones', 'ted hsuan yun chen', 'telmo menezes', 'tenzin tamang', 'tessa masis', 'theresa henn', 'thomas franz müller', 'thomas louf', 'thomas talhelm', 'tiago oliveira cunha', 'tian yang', 'tiancheng hu', 'tianshu chen', 'tim faverjon', 'timothy douglas', 'tina law', 'ting lian', 'tiziano piccardi', 'tobias felix werner', 'tobin south', 'tom emery', 'tom grad', 'tom kemeny', 'tom lenaerts', 'tom theile', 'tomaso erseghe', 'tommaso bondi', 'tomomi kito', 'tongyu ding', 'tony carden', 'tornike tsereteli', 'toshiharu sugawara', 'toshiya saito', 'towa suda', 'trevor james swanson', 'trisevgeni papakonstantinou', 'tuomas ylä-anttila', 'tzu-chi yen', 'uttama barua', 'vadim voskresenskii', 'valentin pauli', 'valentina semenova', \"valeria d'andrea\", 'valerii chirkov', 'vanessa cheung', 'varun tandon', 'vasanth sarathy', 'vedran sekara', 'veniamin veselovsky', 'vera rocha', 'vera sosnovik', 'veronica lachi', 'veronika batzdorfer', 'victor galaz', 'victor hugo orozco-olvera', 'victor landaeta', 'victor navarro', 'victoria yantseva', 'viktoria spaiser', 'vincent buskens', 'vincent lariviere', 'vincent pons', 'vincent straub', 'vincenzo nicosia', 'vittoria colizza', 'vittorio loreto', 'vjosa preniqi', 'vladimir filkov', 'vrushabh vilas wadnere', 'vsevolod suschevskiy', 'walter quattrociocchi', 'wan jou she', 'wanqi hu', 'wen hao he', 'wenjia zhao', 'wenna chen', 'wentao xu', 'wojtek przepiorka', 'woo-sung jung', 'xiajie zhang', 'xiang ren', 'xiao zhang', 'xiaodan lou', 'xiaohui wang', 'xiaoran yan', 'xiaowen dong', 'xiaoya chen', 'xindi wang', 'xinlan emily hu', 'xinran wang', 'xinwei xu', 'xinyi wang', 'xinyi zhao', 'xuanjun jason gong', 'xubo cao', 'yakov bart', 'yan asadchy', 'yan xia', 'yang wang', 'yaniv altshuler', 'yanmeng xing', 'yara kyrychenko', 'yasuhiro suzuki', 'yelena mejova', 'yevgeniy golovchenko', 'yilang peng', 'yingxuan liu', 'yiwei luo', 'yiyan zhang', 'yizhou fan', 'yong-yeol ahn', 'yoshi meke bird', 'yotaro takazawa', 'yu-wen chen', 'yu-yao tseng', 'yuan liao', 'yuan zhang', 'yuanmo he', 'yuchen cao', 'yujin kim', 'yuka takedomi', 'yunhao yuan', 'yuri nakayama', 'yurie iwata', 'yuru li', 'yuta tomokiyo', 'yuwen yu', 'yuzuki takahashi', 'zachary pangan', 'zaid al-ars', 'zexun chen', 'zeyneb nahide kaya', 'zeyu lyu', 'zhemeng xie', 'zhen xu', 'zhixuan zhou', 'zhuangyuan fan', 'zhuojian wei', 'zilin lin', 'zishan lan', 'ziv epstein', 'ziwen chen', 'zoe k. rahwan', 'zoe rahwan', 'zoltan kmetty', 'zsófia rakovics']\n"
     ]
    }
   ],
   "source": [
    "# Get the HTML content\n",
    "link = 'https://ic2s2-2023.org/program'\n",
    "r = requests.get(link)\n",
    "soup = BeautifulSoup(r.content)\n",
    "\n",
    "# Find all the lists of things going on\n",
    "programs = soup.find_all(\"ul\", {\"class\":\"nav_list\"})\n",
    "\n",
    "# Find all lists of authors\n",
    "program_authors = [program.find_all(\"i\") for program in programs]\n",
    "\n",
    "# Get the text\n",
    "all_authors = [author.text for authors in program_authors for author in authors]\n",
    "\n",
    "# Get the individual names\n",
    "all_names = [name.lower() for authors in all_authors for name in authors.split(\", \")]\n",
    "all_names_unique = list(set(all_names))\n",
    "\n",
    "print(len(all_names_unique))\n",
    "all_names_unique.sort()\n",
    "print(all_names_unique)\n",
    "\n",
    "# Save file as json\n",
    "with open('authors.json', 'w') as f:\n",
    "    json.dump(all_names_unique, f)"
   ],
   "metadata": {
    "collapsed": false,
    "ExecuteTime": {
     "end_time": "2024-02-22T08:43:37.775474900Z",
     "start_time": "2024-02-22T08:43:35.734026700Z"
    }
   },
   "id": "24f81999a1824ada",
   "execution_count": 123
  },
  {
   "cell_type": "markdown",
   "source": [
    "_5. How many unique researches do you get?_\n",
    "\n",
    "As seen in the code output above we get 1472 unique authors.\n",
    "\n",
    "_6. Explain the process you followed to web-scrape the page. Which choices did you make to accurately retrieve as many names as possible? Which strategies did you use to assess the quality of your final list? Explain your reasoning and your choices?_\n",
    "\n",
    "We first go to the webpage to inspect the url. We notice that all the programs are in elements marked 'ul' with class name 'nav_list'. We get these programs and find all the names in them, contained in the elements marked 'i'. Then it's just a matter of formatting the resulting lists and deleting duplicates. The approach of taking all the navigable lists ensures that we get names from all the types of events. We look at a subset of the names, to see that it is indeed names and not something else we have found. We deem that since we will be using the search function of the openalex API to find authors, further checking the names is unnecessary, since name mispellings, duplicates etc. will be caught at that point."
   ],
   "metadata": {
    "collapsed": false
   },
   "id": "5862e97df87e7b36"
  },
  {
   "cell_type": "markdown",
   "source": [
    "### Part 2\n",
    "\n",
    "_1. What are pros and cons of the custom-made data used in Centola's experiment (the first study presented in the lecture) and the ready-made data used in Nicolaides's study (the second study presented in the lecture)? You can support your arguments based on the content of the lecture and the information you read in Chapter 2.3 of the book._\n",
    "\n",
    "For the custom-made data used by Centola, there are the usual downsides to this type of data: it probably took quite a lot of effort to set up and design the experiment, and they couldn't be sure beforehand how many people they would get to sign up to the network. On the other hand, they got the exact, specific data they wanted, and were thus able to get more out of their limited data.\n",
    "\n",
    "For the ready-made data used in the second study, there was the advantage that all the data was collected beforehand. Thus, the researchers could jump right to analyzing it. The volume of data from the fitness tracker would most likely also be way bigger than anything they could have designed themselves. The fact that data is collected over time also provides the added advantage of facilitating longitudinal analysis. The downside is, that since they had no control over the collection process, they had to be more careful when doing their causal inference, as some variables could not be measured directly and the biases of the collection process is harder to uncover.\n",
    "\n",
    "_2. How do you think these differences can influence the interpretation of the results in each study?_\n",
    "\n",
    "With ready-made data, one will often have to do some data-manipulation to infer the variables of interest. This can introduce added uncertainty to the conclusions drawn from the study. On the other hand, with custom-made data, one will often have to extrapolate/do inference from fewer data-points, since the collection process is more ardous. This can limit how value of the study's conclusions.\n",
    "\n"
   ],
   "metadata": {
    "collapsed": false
   },
   "id": "aab0e58ed3d73069"
  },
  {
   "cell_type": "markdown",
   "source": [
    "### Part 3\n",
    "\n",
    "Here we use the author database that we collected in week 2.\n",
    "We first get all authors with works count between 5 and 5000."
   ],
   "metadata": {
    "collapsed": false
   },
   "id": "b8b5c3f024e203c2"
  },
  {
   "cell_type": "code",
   "outputs": [],
   "source": [
    "authors = pd.read_pickle('authors.pkl')\n",
    "authors = authors.loc[(authors['works_count'] > 5) &\n",
    "                      (authors['works_count'] < 5000)]"
   ],
   "metadata": {
    "collapsed": false,
    "ExecuteTime": {
     "end_time": "2024-02-21T15:50:52.166690700Z",
     "start_time": "2024-02-21T15:50:52.138547400Z"
    }
   },
   "id": "5426a54ac88b5962",
   "execution_count": 64
  },
  {
   "cell_type": "markdown",
   "source": [
    "We then construct the filter for the concepts, ie.\n",
    "\"Sociology|Psychology|Economics|Political science\n",
    "& Mathematics|Physics|Computer science\"\n",
    "but using the concept ids, which we need to get."
   ],
   "metadata": {
    "collapsed": false
   },
   "id": "a2078d81bacf1960"
  },
  {
   "cell_type": "code",
   "outputs": [],
   "source": [
    "# Define the base url\n",
    "base_url = 'https://api.openalex.org/works'\n",
    "\n",
    "# Columns for the dataframes\n",
    "cols_papers = ['id', 'publication_year', 'cited_by_count', 'author_ids']\n",
    "cols_abstract = ['id', 'title', 'abstract_inverted_index']\n",
    "\n",
    "# Produce the concept filter\n",
    "# First get all high-level concepts\n",
    "concepts_url = 'https://api.openalex.org/concepts'\n",
    "params_concepts = {'filter': 'level:0'}\n",
    "result_concepts = requests.get(concepts_url, params=params_concepts).json()['results']\n",
    "concepts = {concept['display_name']: concept['id'] for concept in result_concepts}\n",
    "\n",
    "# Then define the lists of each category\n",
    "soc_concepts = ['Sociology', 'Psychology', 'Economics', 'Political science']\n",
    "quant_concepts = ['Mathematics', 'Physics', 'Computer science']\n",
    "\n",
    "# Construct the conditions for \n",
    "condition_soc = '|'.join(concepts[c] for c in soc_concepts)\n",
    "condition_quant = '|'.join(concepts[c] for c in quant_concepts)\n",
    "\n",
    "# Construct filter\n",
    "concepts_filter_soc = f'concept.id:{condition_soc}'\n",
    "concepts_filter_quant = f'concept.id:{condition_quant}'"
   ],
   "metadata": {
    "collapsed": false,
    "ExecuteTime": {
     "end_time": "2024-02-21T15:26:32.787873100Z",
     "start_time": "2024-02-21T15:26:31.153081600Z"
    }
   },
   "id": "353122bdd7892f4a",
   "execution_count": 35
  },
  {
   "cell_type": "markdown",
   "source": [
    "We define our filters and the dataframes, and define a function to get the works of a batch of authors.\n",
    "Doing it in this manner enables us to use parallelization to speed up the process."
   ],
   "metadata": {
    "collapsed": false
   },
   "id": "66106e27a1fc9dd1"
  },
  {
   "cell_type": "code",
   "outputs": [],
   "source": [
    "# Collect filters\n",
    "filters = ',cited_by_count:>10,authors_count:<10,' + concepts_filter_soc + ',' + concepts_filter_quant\n",
    "\n",
    "author_ids_list = list(authors['id_fixed'])\n",
    "\n",
    "# Produce batch indexes for querying authors in bulk\n",
    "batch_size = 10\n",
    "author_batches_idx = []\n",
    "for batch in range(0, len(authors), batch_size):\n",
    "    author_batches_idx.append((batch, min(batch + batch_size, len(authors))))\n",
    "\n",
    "# Define dataframes\n",
    "papers_all = pd.DataFrame(columns=cols_papers)\n",
    "abstract_all = pd.DataFrame(columns=cols_abstract)\n",
    "\n",
    "# Function to query the api\n",
    "def get_works(author_batch, author_ids_list):\n",
    "    i, j = author_batch\n",
    "    author_ids_str = '|'.join(author_ids_list[i:j])\n",
    "    params = {'filter': 'author.id:' + author_ids_str + filters,\n",
    "              'per-page': '200'}\n",
    "    next_cursor = '*'\n",
    "\n",
    "    # Define dataframes\n",
    "    papers_df = pd.DataFrame(columns=cols_papers)\n",
    "    abstract_df = pd.DataFrame(columns=cols_abstract)\n",
    "\n",
    "    # Flip through the pages\n",
    "    while next_cursor is not None:\n",
    "        params['cursor'] = next_cursor\n",
    "        result = requests.get(base_url, params=params).json()\n",
    "        works = result['results']\n",
    "        next_cursor = result['meta']['next_cursor']\n",
    "        for work in works:\n",
    "            # We take the characters [21:] from the ids in order to avoid the\n",
    "            # start of the url, and get only the id itself.\n",
    "            author_ids_work = [author['author']['id'][21:] for author in work['authorships']]\n",
    "            new_paper = pd.DataFrame([[work[key] if not key == 'author_ids' else author_ids_work\n",
    "                                       for key in cols_papers]],\n",
    "                                     columns=cols_papers)\n",
    "            new_abstract = pd.DataFrame([[work[key] for key in cols_abstract]],\n",
    "                                        columns=cols_abstract)\n",
    "            # Concatenate to dataframe\n",
    "            papers_df = pd.concat([papers_df, new_paper], ignore_index=True)\n",
    "            abstract_df = pd.concat([abstract_df, new_abstract], ignore_index=True)\n",
    "\n",
    "    return papers_df, abstract_df"
   ],
   "metadata": {
    "collapsed": false,
    "ExecuteTime": {
     "end_time": "2024-02-21T14:43:13.074174200Z",
     "start_time": "2024-02-21T14:43:13.059239100Z"
    }
   },
   "id": "c008bb684971e29f",
   "execution_count": 18
  },
  {
   "cell_type": "markdown",
   "source": [
    "We can now run the query, using the recommend tricks of searching for multiple authors, plus parallel processing."
   ],
   "metadata": {
    "collapsed": false
   },
   "id": "6501f1689a74f9b8"
  },
  {
   "cell_type": "code",
   "outputs": [
    {
     "name": "stderr",
     "output_type": "stream",
     "text": [
      "100%|██████████| 104/104 [00:46<00:00,  2.23it/s]\n"
     ]
    }
   ],
   "source": [
    "# Run queries in parallel\n",
    "result = Parallel(n_jobs=-1)(delayed(get_works)(author_batch, author_ids_list) \n",
    "                             for author_batch in tqdm(author_batches_idx))\n",
    "for pdf, adf in result:\n",
    "    papers_all = pd.concat([papers_all, pdf], ignore_index=True)\n",
    "    abstract_all = pd.concat([abstract_all, adf], ignore_index=True)"
   ],
   "metadata": {
    "collapsed": false,
    "ExecuteTime": {
     "end_time": "2024-02-21T14:44:20.644195300Z",
     "start_time": "2024-02-21T14:43:25.386947300Z"
    }
   },
   "id": "3dfb41a57d8ba7d6",
   "execution_count": 21
  },
  {
   "cell_type": "markdown",
   "source": [
    "And now we can save our data."
   ],
   "metadata": {
    "collapsed": false
   },
   "id": "a7c1eae885343254"
  },
  {
   "cell_type": "code",
   "outputs": [],
   "source": [
    "papers_all.to_pickle('IC2S2_papers.pkl')\n",
    "abstract_all.to_pickle('IC2S2_abstracts.pkl')"
   ],
   "metadata": {
    "collapsed": false,
    "ExecuteTime": {
     "end_time": "2024-02-21T14:51:01.405508200Z",
     "start_time": "2024-02-21T14:51:00.550592800Z"
    }
   },
   "id": "55be66b58fc12d1d",
   "execution_count": 27
  },
  {
   "cell_type": "markdown",
   "source": [
    "##### Dataset summary. \n",
    "_How many works are listed in your IC2S2 papers dataframe? How many unique researchers have co-authored these works?_\n",
    "\n",
    "We take a look:\n"
   ],
   "metadata": {
    "collapsed": false
   },
   "id": "be8238ff88a64ec5"
  },
  {
   "cell_type": "code",
   "outputs": [
    {
     "name": "stdout",
     "output_type": "stream",
     "text": [
      "Total number of papers: 10457\n",
      "Number of unique authors: 13810\n"
     ]
    }
   ],
   "source": [
    "print('Total number of papers: ' + str(len(papers_all)))\n",
    "\n",
    "paper_authors = set([ids for author_ids in papers_all['author_ids'] for ids in author_ids])\n",
    "print('Number of unique authors: ' + str(len(paper_authors)))"
   ],
   "metadata": {
    "collapsed": false,
    "ExecuteTime": {
     "end_time": "2024-02-21T14:57:58.596579800Z",
     "start_time": "2024-02-21T14:57:58.577930400Z"
    }
   },
   "id": "7d882f5e72fcd44a",
   "execution_count": 32
  },
  {
   "cell_type": "markdown",
   "source": [
    "We see that the number of papers in the dataframe is 10457, and the 13810 unique authors authored these works."
   ],
   "metadata": {
    "collapsed": false
   },
   "id": "2ad030084f4ab023"
  },
  {
   "cell_type": "markdown",
   "source": [
    "#### Efficiency in code. \n",
    "_Describe the strategies you implemented to make your code more efficient. How did your approach affect your code's execution time?_\n",
    "\n",
    "First of all, as much of the filtering as possible was frontloaded in the filters or in the selection of authors, in order to reduce the bottleneck, which was the API requests. Second of all, we searched by groups of authors. This reduced the overhead of connecting to the API for each author, and allowed us to pull more data each time. Lastly, we used parallel processing to use all the compute available. All these things sped up the process to the point where the job only took ~45 seconds, instead of upwards of an hour."
   ],
   "metadata": {
    "collapsed": false
   },
   "id": "64b0e1afc7fc980a"
  },
  {
   "cell_type": "markdown",
   "source": [
    "#### Filtering Criteria and Dataset Relevance \n",
    "_Reflect on the rationale behind setting specific thresholds for the total number of works by an author, the citation count, the number of authors per work, and the relevance of works to specific fields. How do these filtering criteria contribute to the relevance of the dataset you compiled? Do you believe any aspects of Computational Social Science research might be underrepresented or overrepresented as a result of these choices?_\n",
    "\n",
    "Only taking authors with work counts between 5 and 5000 eliminates outliers, and only takes authors about whom it may be assumed that they have worked at least semi-regularly in CSS. The citation count ensures that the papers we collect have relevance in the field, and the amount of authors may again help to weed out outlier papers, that are not representative of the field. Using the filter for the different concepts ensures that the papers are indeed relevant to the field of CSS.\n",
    "\n",
    "These filters provide us with a dataset where we can be fairly sure, that all papers are relevant to CSS. However, newer researchers or those who work in smaller, less recognized fields might be underrepresented, which could become an issue."
   ],
   "metadata": {
    "collapsed": false
   },
   "id": "431531dac9fdaad2"
  },
  {
   "cell_type": "markdown",
   "source": [
    "### Part 4\n",
    "We first construct the graph from the edge list."
   ],
   "metadata": {
    "collapsed": false
   },
   "id": "b6edd6bea607fc34"
  },
  {
   "cell_type": "code",
   "outputs": [],
   "source": [
    "author_set = set(authors['id_fixed'])\n",
    "edge_dict = {}\n",
    "\n",
    "for co_authors in papers_all['author_ids']:\n",
    "    # Check that we only use authors from the author file\n",
    "    co_authors = list(set(co_authors) & author_set)\n",
    "    # Leave out papers with only one author\n",
    "    if len(co_authors) < 2:\n",
    "        continue\n",
    "    co_authors.sort()\n",
    "    author_pairs = list(combinations(co_authors, r=2))\n",
    "    for author_pair in author_pairs:\n",
    "        if author_pair not in edge_dict:\n",
    "            edge_dict[author_pair] = 1\n",
    "        else:\n",
    "            edge_dict[author_pair] += 1\n",
    "\n",
    "edge_list = [[author_pair[0], author_pair[1], weight]\n",
    "             for author_pair, weight in list(zip(edge_dict.keys(),\n",
    "                                             edge_dict.values()))]\n",
    "G = nx.Graph()\n",
    "G.add_weighted_edges_from(edge_list, weight='weight')"
   ],
   "metadata": {
    "collapsed": false,
    "ExecuteTime": {
     "end_time": "2024-02-21T16:15:08.690288Z",
     "start_time": "2024-02-21T16:15:08.652720100Z"
    }
   },
   "id": "5aaeb7326d56167e",
   "execution_count": 90
  },
  {
   "cell_type": "markdown",
   "source": [
    "We also need the first year of publication:"
   ],
   "metadata": {
    "collapsed": false
   },
   "id": "1c7fc8c1ac7cb853"
  },
  {
   "cell_type": "code",
   "outputs": [],
   "source": [
    "# Get first year of publication\n",
    "first_pub = papers_all.explode('author_ids').groupby(['author_ids'])['publication_year'].min()\n",
    "first_pub_df = pd.DataFrame(first_pub)\n",
    "first_pub_df.index.name = 'idx'\n",
    "first_pub_df.columns = ['first_pub']\n",
    "first_pub_df['id_fixed'] = first_pub_df.index\n",
    "authors = pd.merge(authors, first_pub_df, on='id_fixed')"
   ],
   "metadata": {
    "collapsed": false,
    "ExecuteTime": {
     "end_time": "2024-02-21T15:50:59.255273600Z",
     "start_time": "2024-02-21T15:50:57.744286100Z"
    }
   },
   "id": "2fa51f6fc44baf15",
   "execution_count": 65
  },
  {
   "cell_type": "markdown",
   "source": [
    "Finally we can add the note attributes and save the network."
   ],
   "metadata": {
    "collapsed": false
   },
   "id": "56a5354c177abb51"
  },
  {
   "cell_type": "code",
   "outputs": [],
   "source": [
    "attribute_dict = {author['id_fixed']: {'display_name': author['display_name'],\n",
    "                                       'country': author['country_code'],\n",
    "                                       'citations_count': author['citations_count'],\n",
    "                                       'first_pub': author['first_pub']}\n",
    "                  for i, author in authors.iterrows()}\n",
    "nx.set_node_attributes(G, attribute_dict)\n",
    "\n",
    "# Write to list\n",
    "data = nx.readwrite.json_graph.node_link_data(G)\n",
    "\n",
    "# Write the data to a json file\n",
    "with open('graph.json', 'w') as f:\n",
    "    json.dump(data, f)"
   ],
   "metadata": {
    "collapsed": false,
    "ExecuteTime": {
     "end_time": "2024-02-21T16:15:11.517942200Z",
     "start_time": "2024-02-21T16:15:11.444527800Z"
    }
   },
   "id": "9d8cf814ccaab2a",
   "execution_count": 91
  },
  {
   "cell_type": "markdown",
   "source": [
    "#### Network Metrics"
   ],
   "metadata": {
    "collapsed": false
   },
   "id": "834a54dd510ad5fb"
  },
  {
   "cell_type": "code",
   "outputs": [
    {
     "name": "stdout",
     "output_type": "stream",
     "text": [
      "Number of nodes:  405\n",
      "Number of edges:  754\n",
      "Density:  0.009216477203275883\n",
      "Fully connected:  False\n",
      "Number of components:  42\n",
      "Number of isolates:  0\n"
     ]
    }
   ],
   "source": [
    "print('Number of nodes: ', len(G.nodes))\n",
    "print('Number of edges: ', len(G.edges))\n",
    "print('Density: ', nx.density(G))\n",
    "print('Fully connected: ', nx.is_connected(G))\n",
    "print('Number of components: ', len(list(nx.connected_components(G))))\n",
    "print('Number of isolates: ', len(list(nx.isolates(G))))"
   ],
   "metadata": {
    "collapsed": false,
    "ExecuteTime": {
     "end_time": "2024-02-22T07:57:10.341328600Z",
     "start_time": "2024-02-22T07:57:10.332241800Z"
    }
   },
   "id": "50e39b2bd2d2c9e2",
   "execution_count": 104
  },
  {
   "cell_type": "markdown",
   "source": [
    "From the calculations above we see that the network has 405 nodes and 754 links. The density is 0.009 which is low - meaning the network is indeed sparse - which is expected since papers take a long time to write, and most authors have only written a handful, and thereby have only collaborated with a tiny fraction of the whole field. We also see that the network is not fully connected, and that there are 42 connected components. Since we constructed the graph from an edge list only there are no isolates.\n",
    "\n",
    "All in all this seems to be what one would expect. For the reasons given above it makes sense that the network is sparse, and for geographical/institutional reasons it makes sense that there are more than a few connected components, despite the globalized nature of modern research."
   ],
   "metadata": {
    "collapsed": false
   },
   "id": "43e09ab6467db577"
  },
  {
   "cell_type": "markdown",
   "source": [
    "#### Degree Analysis"
   ],
   "metadata": {
    "collapsed": false
   },
   "id": "87e059e3f05a5870"
  },
  {
   "cell_type": "code",
   "outputs": [
    {
     "name": "stdout",
     "output_type": "stream",
     "text": [
      "Degree mean:  3.723456790123457\n",
      "Degree median:  2\n",
      "Degree mode:  1\n"
     ]
    }
   ],
   "source": [
    "degrees = [d for _, d in list(G.degree)]\n",
    "print('Degree mean: ', mean(degrees))\n",
    "print('Degree median: ',median(degrees))\n",
    "print('Degree mode: ',mode(degrees))"
   ],
   "metadata": {
    "collapsed": false,
    "ExecuteTime": {
     "end_time": "2024-02-22T07:57:12.874608900Z",
     "start_time": "2024-02-22T07:57:12.859665600Z"
    }
   },
   "id": "1d3c573c938e90f9",
   "execution_count": 105
  },
  {
   "cell_type": "code",
   "outputs": [
    {
     "name": "stdout",
     "output_type": "stream",
     "text": [
      "Strength mean:  25.145679012345678\n",
      "Strength median:  12\n",
      "Strength mode:  2\n"
     ]
    }
   ],
   "source": [
    "strength = [d for _, d in list(G.degree(weight='weight'))]\n",
    "print('Strength mean: ',mean(strength))\n",
    "print('Strength median: ',median(strength))\n",
    "print('Strength mode: ',mode(strength))"
   ],
   "metadata": {
    "collapsed": false,
    "ExecuteTime": {
     "end_time": "2024-02-22T07:57:14.732608Z",
     "start_time": "2024-02-22T07:57:14.713745400Z"
    }
   },
   "id": "ced174182fc54498",
   "execution_count": 106
  },
  {
   "cell_type": "markdown",
   "source": [
    "From the degree analysis we see that there are many nodes with low degree/strength, and fewer nodes with higher values (mean>median>mode). This makes sense, in that there are few authors with many papers and collaborations (often in leadership positions) and many authors with fewer papers, probably lots of PhD students and the like."
   ],
   "metadata": {
    "collapsed": false
   },
   "id": "95cc45531a25a8df"
  },
  {
   "cell_type": "markdown",
   "source": [
    "#### Top Authors"
   ],
   "metadata": {
    "collapsed": false
   },
   "id": "8d6be9a4919f2c36"
  },
  {
   "cell_type": "code",
   "outputs": [
    {
     "name": "stdout",
     "output_type": "stream",
     "text": [
      "Top five authors:\n",
      "Ciro Cattuto :  22\n",
      "Nicola Perra :  20\n",
      "Sune Lehmann :  19\n",
      "Filippo Menczer :  18\n",
      "Alain Barrat :  18\n"
     ]
    }
   ],
   "source": [
    "sort_idxs = sorted(range(len(degrees)),key=degrees.__getitem__)\n",
    "degrees_sorted = [list(G.degree)[i] for i in sort_idxs]\n",
    "top_five = degrees_sorted[:-6:-1]\n",
    "print('Top five authors:')\n",
    "for id, degree in top_five:\n",
    "    author_name = authors.loc[authors['id_fixed']==id]['display_name'].values[0]\n",
    "    print(author_name, ': ', degree)"
   ],
   "metadata": {
    "collapsed": false,
    "ExecuteTime": {
     "end_time": "2024-02-22T08:20:35.418127600Z",
     "start_time": "2024-02-22T08:20:35.370425100Z"
    }
   },
   "id": "66f0516a4164107a",
   "execution_count": 118
  },
  {
   "cell_type": "markdown",
   "source": [
    "We do a little research on each author:\n",
    "\n",
    "__Ciro Cattuto__: Scientific Director of ISI Foundation, and a founder and principal investigator of the SocioPatterns collaboration. _\"My work focuses on measuring and understanding complex phenomena in systems that entangle human behaviors and digital platforms.\"_\n",
    "\n",
    "__Nicola Perra__: _\"I serve as Reader in Applied Mathematics at Queen Mary University of London, UK and chair of the British Chapter of the network Society.\"_\n",
    "\n",
    "__Sune Lehmann__: _\"I’m a Professor of Networks and Complexity Science at DTU Compute, Technical University of Denmark. I’m also a Professor of Social Data Science at the Center for Social Data Science (SODAS), University of Copenhagen.\"_\n",
    "\n",
    "__Filippo Menczer__: University Distinguished Professor and the Luddy Professor of Informatics and Computer Science at the Luddy School of Informatics, Computing, and Engineering, Indiana University.\n",
    "\n",
    "__Alain Barrat__: Senior researcher affiliated with CNRS, CPT, and Turing Center for Living systems in Marseille, France.\n",
    "\n",
    "__Comments__: We would say all of these seem highly related to CSS, based on their descriptions of their work. These are the authors with the most works collaborated on within the authors dataset, and it makes sense that most of them occupy leadership positions in institutes focused on CSS or related, since getting authorships on hundreds of papers probably mean that you oversee a lot of projects. Given that these are the most heavily connected authors, they serve as 'hubs' within their institutes and the field at large. "
   ],
   "metadata": {
    "collapsed": false
   },
   "id": "f5dfdfe1ac0d11ae"
  }
 ],
 "metadata": {
  "kernelspec": {
   "display_name": "Python 3",
   "language": "python",
   "name": "python3"
  },
  "language_info": {
   "codemirror_mode": {
    "name": "ipython",
    "version": 2
   },
   "file_extension": ".py",
   "mimetype": "text/x-python",
   "name": "python",
   "nbconvert_exporter": "python",
   "pygments_lexer": "ipython2",
   "version": "2.7.6"
  }
 },
 "nbformat": 4,
 "nbformat_minor": 5
}
